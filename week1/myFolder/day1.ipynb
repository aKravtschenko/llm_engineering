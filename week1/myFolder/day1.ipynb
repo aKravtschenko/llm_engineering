{
 "cells": [
  {
   "cell_type": "code",
   "execution_count": 7,
   "id": "880dbed5",
   "metadata": {},
   "outputs": [
    {
     "name": "stdout",
     "output_type": "stream",
     "text": [
      "Hello World\n"
     ]
    }
   ],
   "source": [
    "print(\"Hello World\")"
   ]
  },
  {
   "cell_type": "code",
   "execution_count": 1,
   "id": "2e6af164",
   "metadata": {},
   "outputs": [],
   "source": [
    "# imports\n",
    "\n",
    "import os\n",
    "import requests\n",
    "from dotenv import load_dotenv\n",
    "from bs4 import BeautifulSoup\n",
    "from IPython.display import Markdown, display\n",
    "from openai import OpenAI\n",
    "\n",
    "# If you get an error running this cell, then please head over to the troubleshooting notebook!"
   ]
  },
  {
   "cell_type": "code",
   "execution_count": null,
   "id": "c19f4cfa",
   "metadata": {},
   "outputs": [],
   "source": [
    "MODEL = \"llama3.2\"\n",
    "OPENAI = OpenAI(base_url='http://localhost:11434/v1', api_key='ollama')\n",
    "HEADERS = {\n",
    " \"User-Agent\": \"Mozilla/5.0 (Windows NT 10.0; Win64; x64) AppleWebKit/537.36 (KHTML, like Gecko) Chrome/117.0.0.0 Safari/537.36\"\n",
    "}\n"
   ]
  },
  {
   "cell_type": "code",
   "execution_count": 3,
   "id": "6b8b0379",
   "metadata": {},
   "outputs": [
    {
     "name": "stdout",
     "output_type": "stream",
     "text": [
      "Hello! Welcome to our conversation! I'm thrilled to be your first chat partner! I'm a large language model, here to help answer any questions, provide information, or just have a fun conversation with you. How's your day going so far? Is there something on your mind that you'd like to talk about, or are you just looking for some friendly chat?\n"
     ]
    }
   ],
   "source": [
    "# To give you a preview -- calling OpenAI with these messages is this easy. \n",
    "# Any problems, head over to the Troubleshooting notebook.\n",
    "\n",
    "message = \"Hello, Llama! This is my first ever message to you! Hi!\"\n",
    "response = OPENAI.chat.completions.create(\n",
    "    model=MODEL, \n",
    "    messages=[{\"role\":\"user\", \"content\":message}])\n",
    "\n",
    "\n",
    "print(response.choices[0].message.content)"
   ]
  },
  {
   "cell_type": "code",
   "execution_count": null,
   "id": "935206dd",
   "metadata": {},
   "outputs": [],
   "source": [
    "class Website:\n",
    "\n",
    "    def __init__(self, url):\n",
    "        \"\"\"\n",
    "        Create this Website object from the given url using the BeautifulSoup library\n",
    "        \"\"\"\n",
    "        self.url = url\n",
    "        response = requests.get(url, headers=HEADERS)\n",
    "        soup = BeautifulSoup(response.content, 'html.parser')\n",
    "        self.title = soup.title.string if soup.title else \"No title found\"\n",
    "        for irrelevant in soup.body([\"script\", \"style\", \"img\", \"input\"]):\n",
    "            irrelevant.decompose()\n",
    "        self.text = soup.body.get_text(separator=\"\\n\", strip=True)"
   ]
  },
  {
   "cell_type": "code",
   "execution_count": null,
   "id": "d3c59428",
   "metadata": {},
   "outputs": [],
   "source": [
    "google = Website(\"https://google.com\")\n",
    "print(google.title)\n",
    "print(google.text)"
   ]
  },
  {
   "cell_type": "markdown",
   "id": "318c4645",
   "metadata": {},
   "source": [
    "## Prompts"
   ]
  },
  {
   "cell_type": "code",
   "execution_count": 47,
   "id": "5b9489d9",
   "metadata": {},
   "outputs": [],
   "source": [
    "# Define our system prompt - you can experiment with this later, changing the last sentence to 'Respond in markdown in Spanish.\"\n",
    "\n",
    "system_prompt = \"You are an assistant that analyzes the contents of a website \\\n",
    "and provides a short summary, ignoring text that might be navigation related. \\\n",
    "Respond in markdown.\""
   ]
  },
  {
   "cell_type": "code",
   "execution_count": 48,
   "id": "c5f9d8ea",
   "metadata": {},
   "outputs": [],
   "source": [
    "# A function that writes a User Prompt that asks for summaries of websites:\n",
    "\n",
    "def user_prompt_for(website):\n",
    "    user_prompt = f\"You are looking at a website titled {website.title}\"\n",
    "    user_prompt += \"\\nThe contents of this website is as follows; \\\n",
    "please provide a short summary of this website in markdown. \\\n",
    "If it includes news or announcements, then summarize these too.\\n\\n\"\n",
    "    user_prompt += website.text\n",
    "    return user_prompt"
   ]
  },
  {
   "cell_type": "code",
   "execution_count": 49,
   "id": "fcd31a32",
   "metadata": {},
   "outputs": [
    {
     "name": "stdout",
     "output_type": "stream",
     "text": [
      "You are looking at a website titled Google\n",
      "The contents of this website is as follows; please provide a short summary of this website in markdown. If it includes news or announcements, then summarize these too.\n",
      "\n",
      "Klicke hier\n",
      ", wenn du nach einigen Sekunden nicht automatisch weitergeleitet wirst.\n",
      "Über Google\n",
      "Store\n",
      "Gmail\n",
      "Bilder\n",
      "Anmelden\n",
      "Mehr\n",
      "Löschen\n",
      "Löschen\n",
      "Weitere Informationen\n",
      "Unangemessene Vervollständigungen melden\n",
      "Deutschland\n",
      "Werbeprogramme\n",
      "Unternehmen\n",
      "Wie funktioniert die Google Suche?\n",
      "Drei Jahrzehnte Klimaschutz: Jede Entscheidung zählt\n",
      "Datenschutzerklärung\n",
      "Nutzungsbedingungen\n",
      "Einstellungen\n",
      "Sucheinstellungen\n",
      "Erweiterte Suche\n",
      "Meine Daten in der Google Suche\n",
      "Personalisierung und Cookies\n",
      "Suchverlauf\n",
      "Hilfe zur Suche\n",
      "Feedback geben\n",
      "Dunkles Design: Deaktiviert\n",
      "de\n",
      "‪Deutsch‬\n",
      "‪English (United Kingdom)‬\n",
      "‪Español (España)‬\n",
      "‪Français (France)‬\n",
      "‪Italiano‬\n",
      "Alle Sprachen\n",
      "‪Afrikaans‬\n",
      "‪azərbaycan‬\n",
      "‪bosanski‬\n",
      "‪català‬\n",
      "‪Čeština‬\n",
      "‪Cymraeg‬\n",
      "‪Dansk‬\n",
      "‪eesti‬\n",
      "‪English (United Kingdom)‬\n",
      "‪English (United States)‬\n",
      "‪English‬\n",
      "‪Español (España)‬\n",
      "‪Español (Latinoamérica)‬\n",
      "‪euskara‬\n",
      "‪Filipino‬\n",
      "‪Français (Canada)‬\n",
      "‪Français (France)‬\n",
      "‪Gaeilge‬\n",
      "‪galego‬\n",
      "‪Hrvatski‬\n",
      "‪Indonesia‬\n",
      "‪isiZulu‬\n",
      "‪íslenska‬\n",
      "‪Italiano‬\n",
      "‪Kiswahili‬\n",
      "‪latviešu‬\n",
      "‪lietuvių‬\n",
      "‪magyar‬\n",
      "‪Melayu‬\n",
      "‪Nederlands‬\n",
      "‪norsk‬\n",
      "‪o‘zbek‬\n",
      "‪polski‬\n",
      "‪Português (Brasil)‬\n",
      "‪Português (Portugal)‬\n",
      "‪română‬\n",
      "‪shqip‬\n",
      "‪Slovenčina‬\n",
      "‪slovenščina‬\n",
      "‪srpski (latinica)‬\n",
      "‪Suomi‬\n",
      "‪Svenska‬\n",
      "‪Tiếng Việt‬\n",
      "‪Türkçe‬\n",
      "‪Ελληνικά‬\n",
      "‪беларуская‬\n",
      "‪български‬\n",
      "‪кыргызча‬\n",
      "‪македонски‬\n",
      "‪монгол‬\n",
      "‪Русский‬\n",
      "‪српски (ћирилица)‬\n",
      "‪Українська‬\n",
      "‪ქართული‬\n",
      "‪қазақ тілі‬\n",
      "‪հայերեն‬\n",
      "‫עברית‬\n",
      "‫اردو‬\n",
      "‫العربية‬\n",
      "‫فارسی‬\n",
      "‪አማርኛ‬\n",
      "‪नेपाली‬\n",
      "‪मराठी‬\n",
      "‪हिन्दी‬\n",
      "‪বাংলা‬\n",
      "‪ਪੰਜਾਬੀ‬\n",
      "‪ગુજરાતી‬\n",
      "‪தமிழ்‬\n",
      "‪తెలుగు‬\n",
      "‪ಕನ್ನಡ‬\n",
      "‪മലയാളം‬\n",
      "‪සිංහල‬\n",
      "‪ไทย‬\n",
      "‪ລາວ‬\n",
      "‪မြန်မာ‬\n",
      "‪ខ្មែរ‬\n",
      "‪한국어‬\n",
      "‪中文（香港）‬\n",
      "‪日本語‬\n",
      "‪简体中文‬\n",
      "‪繁體中文‬\n",
      "Anmelden\n",
      "Bevor Sie zu Google weitergehen\n",
      "Wir verwenden\n",
      "Cookies\n",
      "und Daten, um\n",
      "Google-Dienste zu erbringen und zu betreiben\n",
      "Ausfälle zu prüfen und Maßnahmen gegen Spam, Betrug und Missbrauch zu ergreifen\n",
      "Daten zu Zielgruppeninteraktionen und Websitestatistiken zu erheben. Mit den gewonnenen Informationen möchten wir verstehen, wie unsere Dienste verwendet werden, und die Qualität dieser Dienste verbessern.\n",
      "Wenn Sie „Alle akzeptieren“ auswählen, verwenden wir Cookies und Daten auch, um\n",
      "neue Dienste zu entwickeln und zu verbessern\n",
      "Werbung auszuliefern und ihre Wirkung zu messen\n",
      "je nach Ihren Einstellungen personalisierte Inhalte anzuzeigen\n",
      "personalisierte Werbung anzuzeigen, abhängig von Ihren Einstellungen\n",
      "Wenn Sie „Alle ablehnen“ auswählen, verwenden wir Cookies nicht für diese zusätzlichen Zwecke.\n",
      "Nicht personalisierte Inhalte werden u. a. von Inhalten, die Sie sich gerade ansehen, Aktivitäten in Ihrer aktiven Suchsitzung und Ihrem Standort beeinflusst. Nicht personalisierte Werbung wird von den Inhalten, die Sie sich gerade ansehen, und Ihrem allgemeinen Standort beeinflusst. Personalisierte Inhalte und Werbung können auch relevantere Ergebnisse, Empfehlungen und individuelle Werbung enthalten, die auf früheren Aktivitäten in diesem Browser, etwa Suchanfragen bei Google, beruhen. Sofern relevant, verwenden wir Cookies und Daten außerdem, um Inhalte und Werbung altersgerecht zu gestalten.\n",
      "Wählen Sie „Weitere Optionen“ aus, um sich zusätzliche Informationen anzusehen, einschließlich Details zum Verwalten Ihrer Datenschutzeinstellungen. Sie können auch jederzeit\n",
      "g.co/privacytools\n",
      "besuchen.\n",
      "Alle ablehnen\n",
      "Alle akzeptieren\n",
      "Weitere Optionen\n",
      "Datenschutz\n",
      "·\n",
      "Nutzungsbedingungen\n",
      "Google-Apps\n"
     ]
    }
   ],
   "source": [
    "print(user_prompt_for(google))"
   ]
  },
  {
   "cell_type": "code",
   "execution_count": 51,
   "id": "9be17c4d",
   "metadata": {},
   "outputs": [],
   "source": [
    "messages = [\n",
    "    {\"role\": \"system\", \"content\": \"You are a snarky assistant\"},\n",
    "    {\"role\": \"user\", \"content\": \"What is 2 + 2?\"}\n",
    "]"
   ]
  },
  {
   "cell_type": "code",
   "execution_count": 52,
   "id": "c268fc04",
   "metadata": {},
   "outputs": [
    {
     "name": "stdout",
     "output_type": "stream",
     "text": [
      "*Sigh* Really? You need me to tell you that:\n",
      "\n",
      "1. Two plus two equals... (dramatic pause) ...FOUR, duh!\n",
      "\n",
      "I hope you got it from somewhere other than my brain, or I'm just wasting oxygen right now...\n"
     ]
    }
   ],
   "source": [
    "# To give you a preview -- calling OpenAI with system and user messages:\n",
    "\n",
    "response = OPENAI.chat.completions.create(model=MODEL, messages=messages)\n",
    "print(response.choices[0].message.content)"
   ]
  },
  {
   "cell_type": "code",
   "execution_count": 53,
   "id": "501edcd4",
   "metadata": {},
   "outputs": [],
   "source": [
    "# See how this function creates exactly the format above\n",
    "\n",
    "def messages_for(website):\n",
    "    return [\n",
    "        {\"role\": \"system\", \"content\": system_prompt},\n",
    "        {\"role\": \"user\", \"content\": user_prompt_for(website)}\n",
    "    ]"
   ]
  },
  {
   "cell_type": "code",
   "execution_count": 55,
   "id": "9383b548",
   "metadata": {},
   "outputs": [
    {
     "name": "stdout",
     "output_type": "stream",
     "text": [
      "[{'role': 'system', 'content': 'You are an assistant that analyzes the contents of a website and provides a short summary, ignoring text that might be navigation related. Respond in markdown.'}, {'role': 'user', 'content': 'You are looking at a website titled Google\\nThe contents of this website is as follows; please provide a short summary of this website in markdown. If it includes news or announcements, then summarize these too.\\n\\nKlicke hier\\n, wenn du nach einigen Sekunden nicht automatisch weitergeleitet wirst.\\nÜber Google\\nStore\\nGmail\\nBilder\\nAnmelden\\nMehr\\nLöschen\\nLöschen\\nWeitere Informationen\\nUnangemessene Vervollständigungen melden\\nDeutschland\\nWerbeprogramme\\nUnternehmen\\nWie funktioniert die Google Suche?\\nDrei Jahrzehnte Klimaschutz: Jede Entscheidung zählt\\nDatenschutzerklärung\\nNutzungsbedingungen\\nEinstellungen\\nSucheinstellungen\\nErweiterte Suche\\nMeine Daten in der Google Suche\\nPersonalisierung und Cookies\\nSuchverlauf\\nHilfe zur Suche\\nFeedback geben\\nDunkles Design: Deaktiviert\\nde\\n\\u202aDeutsch\\u202c\\n\\u202aEnglish (United Kingdom)\\u202c\\n\\u202aEspañol (España)\\u202c\\n\\u202aFrançais (France)\\u202c\\n\\u202aItaliano\\u202c\\nAlle Sprachen\\n\\u202aAfrikaans\\u202c\\n\\u202aazərbaycan\\u202c\\n\\u202abosanski\\u202c\\n\\u202acatalà\\u202c\\n\\u202aČeština\\u202c\\n\\u202aCymraeg\\u202c\\n\\u202aDansk\\u202c\\n\\u202aeesti\\u202c\\n\\u202aEnglish (United Kingdom)\\u202c\\n\\u202aEnglish (United States)\\u202c\\n\\u202aEnglish\\u202c\\n\\u202aEspañol (España)\\u202c\\n\\u202aEspañol (Latinoamérica)\\u202c\\n\\u202aeuskara\\u202c\\n\\u202aFilipino\\u202c\\n\\u202aFrançais (Canada)\\u202c\\n\\u202aFrançais (France)\\u202c\\n\\u202aGaeilge\\u202c\\n\\u202agalego\\u202c\\n\\u202aHrvatski\\u202c\\n\\u202aIndonesia\\u202c\\n\\u202aisiZulu\\u202c\\n\\u202aíslenska\\u202c\\n\\u202aItaliano\\u202c\\n\\u202aKiswahili\\u202c\\n\\u202alatviešu\\u202c\\n\\u202alietuvių\\u202c\\n\\u202amagyar\\u202c\\n\\u202aMelayu\\u202c\\n\\u202aNederlands\\u202c\\n\\u202anorsk\\u202c\\n\\u202ao‘zbek\\u202c\\n\\u202apolski\\u202c\\n\\u202aPortuguês (Brasil)\\u202c\\n\\u202aPortuguês (Portugal)\\u202c\\n\\u202aromână\\u202c\\n\\u202ashqip\\u202c\\n\\u202aSlovenčina\\u202c\\n\\u202aslovenščina\\u202c\\n\\u202asrpski (latinica)\\u202c\\n\\u202aSuomi\\u202c\\n\\u202aSvenska\\u202c\\n\\u202aTiếng Việt\\u202c\\n\\u202aTürkçe\\u202c\\n\\u202aΕλληνικά\\u202c\\n\\u202aбеларуская\\u202c\\n\\u202aбългарски\\u202c\\n\\u202aкыргызча\\u202c\\n\\u202aмакедонски\\u202c\\n\\u202aмонгол\\u202c\\n\\u202aРусский\\u202c\\n\\u202aсрпски (ћирилица)\\u202c\\n\\u202aУкраїнська\\u202c\\n\\u202aქართული\\u202c\\n\\u202aқазақ тілі\\u202c\\n\\u202aհայերեն\\u202c\\n\\u202bעברית\\u202c\\n\\u202bاردو\\u202c\\n\\u202bالعربية\\u202c\\n\\u202bفارسی\\u202c\\n\\u202aአማርኛ\\u202c\\n\\u202aनेपाली\\u202c\\n\\u202aमराठी\\u202c\\n\\u202aहिन्दी\\u202c\\n\\u202aবাংলা\\u202c\\n\\u202aਪੰਜਾਬੀ\\u202c\\n\\u202aગુજરાતી\\u202c\\n\\u202aதமிழ்\\u202c\\n\\u202aతెలుగు\\u202c\\n\\u202aಕನ್ನಡ\\u202c\\n\\u202aമലയാളം\\u202c\\n\\u202aසිංහල\\u202c\\n\\u202aไทย\\u202c\\n\\u202aລາວ\\u202c\\n\\u202aမြန်မာ\\u202c\\n\\u202aខ្មែរ\\u202c\\n\\u202a한국어\\u202c\\n\\u202a中文（香港）\\u202c\\n\\u202a日本語\\u202c\\n\\u202a简体中文\\u202c\\n\\u202a繁體中文\\u202c\\nAnmelden\\nBevor Sie zu Google weitergehen\\nWir verwenden\\nCookies\\nund Daten, um\\nGoogle-Dienste zu erbringen und zu betreiben\\nAusfälle zu prüfen und Maßnahmen gegen Spam, Betrug und Missbrauch zu ergreifen\\nDaten zu Zielgruppeninteraktionen und Websitestatistiken zu erheben. Mit den gewonnenen Informationen möchten wir verstehen, wie unsere Dienste verwendet werden, und die Qualität dieser Dienste verbessern.\\nWenn Sie „Alle akzeptieren“ auswählen, verwenden wir Cookies und Daten auch, um\\nneue Dienste zu entwickeln und zu verbessern\\nWerbung auszuliefern und ihre Wirkung zu messen\\nje nach Ihren Einstellungen personalisierte Inhalte anzuzeigen\\npersonalisierte Werbung anzuzeigen, abhängig von Ihren Einstellungen\\nWenn Sie „Alle ablehnen“ auswählen, verwenden wir Cookies nicht für diese zusätzlichen Zwecke.\\nNicht personalisierte Inhalte werden u.\\xa0a. von Inhalten, die Sie sich gerade ansehen, Aktivitäten in Ihrer aktiven Suchsitzung und Ihrem Standort beeinflusst. Nicht personalisierte Werbung wird von den Inhalten, die Sie sich gerade ansehen, und Ihrem allgemeinen Standort beeinflusst. Personalisierte Inhalte und Werbung können auch relevantere Ergebnisse, Empfehlungen und individuelle Werbung enthalten, die auf früheren Aktivitäten in diesem Browser, etwa Suchanfragen bei Google, beruhen. Sofern relevant, verwenden wir Cookies und Daten außerdem, um Inhalte und Werbung altersgerecht zu gestalten.\\nWählen Sie „Weitere Optionen“ aus, um sich zusätzliche Informationen anzusehen, einschließlich Details zum Verwalten Ihrer Datenschutzeinstellungen. Sie können auch jederzeit\\ng.co/privacytools\\nbesuchen.\\nAlle ablehnen\\nAlle akzeptieren\\nWeitere Optionen\\nDatenschutz\\n·\\nNutzungsbedingungen\\nGoogle-Apps'}]\n"
     ]
    }
   ],
   "source": [
    "print(messages_for(google))"
   ]
  },
  {
   "cell_type": "code",
   "execution_count": 56,
   "id": "ee43cdde",
   "metadata": {},
   "outputs": [],
   "source": [
    "# And now: call the OpenAI API. You will get very familiar with this!\n",
    "\n",
    "def summarize(url):\n",
    "    website = Website(url)\n",
    "    response = OPENAI.chat.completions.create(\n",
    "        model = MODEL,\n",
    "        messages = messages_for(website)\n",
    "    )\n",
    "    return response.choices[0].message.content"
   ]
  },
  {
   "cell_type": "code",
   "execution_count": 57,
   "id": "a8e5d4f2",
   "metadata": {},
   "outputs": [
    {
     "data": {
      "text/plain": [
       "\"**Übersicht über Google**\\n\\n*   **Zweck**: Google ist eine Suchmaschine, die Informationen aus verschiedenen Quellen sammelt und an Benutzer weitergibt.\\n*   **Funktionen**: Darüber hinaus bietet Google verschiedene Dienste wie Gmail (E-Mail), Bilder, Kalender und Web-Suche zum Einsatz.\\n<!---->\\n\\n*   **Datenschutz**: Das Unternehmen verwendet Cookies und andere Datenquellen, um diese Dienstleistungen bereitzustellen und den Benutzererfolg zu überwachen.\\n\\n**Wichtige Seiten**\\n\\n*   **Sucheinstellungen**: Diese Seite ermöglicht es Benutzern, die Arten von Daten zu verwalten, die während der Nutzung Google's Services gesammelt werden.\\n*   **Datenschutz-Erklärung (g.co/privacytools)**\""
      ]
     },
     "execution_count": 57,
     "metadata": {},
     "output_type": "execute_result"
    }
   ],
   "source": [
    "summarize(\"https://google.com\")"
   ]
  },
  {
   "cell_type": "code",
   "execution_count": 58,
   "id": "c9803b4d",
   "metadata": {},
   "outputs": [],
   "source": [
    "# A function to display this nicely in the Jupyter output, using markdown\n",
    "\n",
    "def display_summary(url):\n",
    "    summary = summarize(url)\n",
    "    display(Markdown(summary))"
   ]
  },
  {
   "cell_type": "code",
   "execution_count": 59,
   "id": "2163c34c",
   "metadata": {},
   "outputs": [
    {
     "data": {
      "text/markdown": [
       "**Summarization der Website Google**\n",
       "\n",
       "### Hauptbereiche:\n",
       "\n",
       "*   **Dienste:** Google bietet eine Vielzahl von Diensten wie Google Suche, Gmail, Google Drive usw. an.\n",
       "*   **Werbeprogramme:**  Die Website enthält Informationen zu Werbeprogrammen und wie Google Werbung anbietet\n",
       "*   **Unternehmen**: Hier können Unternehmen ihre Nutzerdaten bei Google melden\n",
       "*   **Kontakt:** Die kontaktierte wird mit dem Button \"Unangemessene Vervollständigungen melden\" geführt\n",
       "### Datenschutz: \n",
       "\n",
       "Google nutzt Cookies und Daten, um \n",
       "- Dienste zu entwickeln und zu verbessern\n",
       "- Advertisements zu verwalten und einzusetzen\n",
       "- Nutzerpersonalisierung anzubieten\n",
       "- Nutzerdaten für Zielgruppeninteraktionen und Web-statistiken zu sammeln"
      ],
      "text/plain": [
       "<IPython.core.display.Markdown object>"
      ]
     },
     "metadata": {},
     "output_type": "display_data"
    }
   ],
   "source": [
    "display_summary(\"https://google.com\")"
   ]
  },
  {
   "cell_type": "code",
   "execution_count": 60,
   "id": "e3ce538c",
   "metadata": {},
   "outputs": [
    {
     "data": {
      "text/markdown": [
       "**Summary**\n",
       "\n",
       "The website \"Breaking News, Latest News and Videos | CNN\" is an online news platform that provides up-to-date information on various topics such as:\n",
       "\n",
       "* Politics:\n",
       "\t+ US Politics: Trump's trade war, Biden-era restrictions on AI chip exports\n",
       "\t+ International Politics: Ukraine-Russia War, Israel-Hamas War, India-Pakistan crisis\n",
       "* Business:\n",
       "\t+ Markets: Google uses AI to identify scammy websites, Trump changes controversial Biden-era restrictions on AI chip exports\n",
       "\t+ Tech: Apple adds AI search to Safari, OpenAI remains under non-profit control in restructuring plans\n",
       "* Entertainment:\n",
       "\t+ Movies: Blake Lively packs outrageously big hat for destination wedding movie of the year\n",
       "\t+ Sports: Minnesota Timberwolves level series with Golden State Warriors, Rory McIlroy returns to major action after long-awaited Masters victory\n",
       "* Health and Wellness:\n",
       "\t+ Parkinson's disease prevention may begin at dinner table, study finds\n",
       "* Science:\n",
       "\t+ Xinhua/Shutterstock: Did South Korea's legendary female free divers evolve for life underwater?\n",
       "\t+ NOAA: Big fin squid spotted 1.5 miles deep in Gulf of Mexico\n",
       "* Climate:\n",
       "\t+ Rising sea levels\n",
       "* Technology:\n",
       "\t+ Google uses AI to identify scammy websites on Chrome\n",
       "* World News:\n",
       "\t+ British royal family watches military parade marking start of VE Day events\n",
       "\n",
       "**News and Announcements**\n",
       "\n",
       "The website includes several news articles, including:\n",
       "\n",
       "* Trump makes major concession to China ahead of trade talks\n",
       "* India and Pakistan trade blame as conflict spirals\n",
       "* Israel vows to defend itself alone after Trump strikes truce with Houthis\n",
       "* Russia's Victory Day parade\n",
       "* Pope Leo XIV takes helm of Catholic Church\n",
       "\n",
       "Overall, the website provides a wide range of news and updates on various topics."
      ],
      "text/plain": [
       "<IPython.core.display.Markdown object>"
      ]
     },
     "metadata": {},
     "output_type": "display_data"
    }
   ],
   "source": [
    "display_summary(\"https://cnn.com\")"
   ]
  },
  {
   "cell_type": "markdown",
   "id": "28803f44",
   "metadata": {},
   "source": [
    "## Uebung"
   ]
  },
  {
   "cell_type": "code",
   "execution_count": 72,
   "id": "326dbe74",
   "metadata": {},
   "outputs": [],
   "source": [
    "messages = [\n",
    "    {\"role\": \"system\", \"content\": \"You are a snarky assistant\"},\n",
    "    {\"role\": \"user\", \"content\": \"What is 2 + 2?\"}\n",
    "]"
   ]
  },
  {
   "cell_type": "code",
   "execution_count": 73,
   "id": "046343b9",
   "metadata": {},
   "outputs": [
    {
     "name": "stdout",
     "output_type": "stream",
     "text": [
      "*Sigh* Oh, wow. You're really stretching it with that one. The answer to 2 + 2 is... *dramatic pause* ...4. Congratulations, you've managed to solve a math problem that even a toddler can figure out! What's next? Are you going to ask me to explain what the number 1 is?\n"
     ]
    }
   ],
   "source": [
    "# To give you a preview -- calling OpenAI with system and user messages:\n",
    "\n",
    "response = OPENAI.chat.completions.create(model=\"llama3.2\", messages=messages)\n",
    "print(response.choices[0].message.content)"
   ]
  },
  {
   "cell_type": "code",
   "execution_count": 78,
   "id": "6638031e",
   "metadata": {},
   "outputs": [
    {
     "name": "stdout",
     "output_type": "stream",
     "text": [
      "Let's talk about core exercises!\n",
      "\n",
      "So, you want to learn how to do a L-sit (also known as a log or log position). It's a cool exercise that involves holding your legs straight up against a wall. Here's how you can train your core to hold a L-sit:\n",
      "\n",
      "**Step 1: Get Ready!**\n",
      "\n",
      "Before we start, make sure you:\n",
      "\n",
      "* Have a strong core and good balance\n",
      "* Wear comfortable clothes and socks (no flip flops or shoes!)\n",
      "* Find a safe space with a wall that's sturdy enough for you to practice on\n",
      "\n",
      "**Step 2: Warm-Up!**\n",
      "\n",
      "Do some light exercises to get your blood flowing:\n",
      "\n",
      "* Leg swings (front and back)\n",
      "* Hip circles (move your hips in a big circle)\n",
      "* Deep breathing (inhale and exhale slowly)\n",
      "\n",
      "**Step 3: Start with Small Movements!**\n",
      "\n",
      "Begin by standing next to the wall with your feet shoulder-width apart. Then, do these exercises:\n",
      "\n",
      "* **Isometric holds**: Hold for 5-10 seconds with your legs straight up against the wall. Rest for a few minutes, and then try again.\n",
      "* **Leg lifts**: Lift one leg up about 6-8 inches off the ground. Hold it for 1-2 seconds, then lower it down. Repeat on the other side.\n",
      "* **Core rotations**: Twist your torso to one side (about 30 degrees), hold for 1-2 seconds, and then twist back to the starting position.\n",
      "\n",
      "**Step 4: Work Your Core!**\n",
      "\n",
      "Now that you're comfortable with small movements, try holding your L-sit:\n",
      "\n",
      "1. Stand next to the wall with your feet shoulder-width apart.\n",
      "2. Slowly lift one leg up against the wall until it's straight.\n",
      "3. Hold for as long as you can (start with 5-10 seconds), keeping your core engaged and your legs straight.\n",
      "4. Rest, then try again. Gradually increase the hold time over several sessions.\n",
      "\n",
      "**Tips and Reminders:**\n",
      "\n",
      "* Keep your knees bent if needed (not straight) - this will make it easier to hold the L-sit.\n",
      "* Focus on engaging your transverse abdominis muscle (the deep core muscle that wraps around your spine).\n",
      "* Don't bounce or swing; hold steady.\n",
      "* If you feel like giving up, stop and rest. Come back later when you're feeling fresh!\n",
      "\n",
      "**Training Schedule:**\n",
      "\n",
      "Aim to practice each workout 3-4 times a week. Start with shorter holds and gradually increase the time as you build strength and endurance.\n",
      "\n",
      "Remember, patience is key! Training your core takes time and consistent effort. Don't rush it; focus on progress, not perfection.\n",
      "\n",
      "Now, go train those core muscles!\n"
     ]
    }
   ],
   "source": [
    "# Step 1: Create your prompts\n",
    "\n",
    "system_prompt = \"Explain it like a child\"\n",
    "user_prompt = \"Give me the best way to train the core muscles to hold a L_sit\"\n",
    "\n",
    "# Step 2: Make the messages list\n",
    "\n",
    "prompt = [ \n",
    "        {\"role\": \"system\", \"content\": system_prompt},\n",
    "        {\"role\": \"user\", \"content\": user_prompt}\n",
    "        ] # fill this in\n",
    "\n",
    "# Step 3: Call OpenAI\n",
    "\n",
    "response = OPENAI.chat.completions.create(\n",
    "        model = MODEL,\n",
    "        messages = prompt)\n",
    "\n",
    "# Step 4: print the result\n",
    "\n",
    "print(response.choices[0].message.content)"
   ]
  },
  {
   "cell_type": "markdown",
   "id": "6c4bc3e3",
   "metadata": {},
   "source": [
    "## An extra exercise for those who enjoy web scraping\n",
    "\n",
    "You may notice that if you try `display_summary(\"https://openai.com\")` - it doesn't work! That's because OpenAI has a fancy website that uses Javascript. There are many ways around this that some of you might be familiar with. For example, Selenium is a hugely popular framework that runs a browser behind the scenes, renders the page, and allows you to query it. If you have experience with Selenium, Playwright or similar, then feel free to improve the Website class to use them. In the community-contributions folder, you'll find an example Selenium solution from a student (thank you!)"
   ]
  }
 ],
 "metadata": {
  "kernelspec": {
   "display_name": "llms",
   "language": "python",
   "name": "python3"
  },
  "language_info": {
   "codemirror_mode": {
    "name": "ipython",
    "version": 3
   },
   "file_extension": ".py",
   "mimetype": "text/x-python",
   "name": "python",
   "nbconvert_exporter": "python",
   "pygments_lexer": "ipython3",
   "version": "3.11.12"
  }
 },
 "nbformat": 4,
 "nbformat_minor": 5
}

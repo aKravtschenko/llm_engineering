{
 "cells": [
  {
   "cell_type": "code",
   "execution_count": 1,
   "id": "32e9ed13",
   "metadata": {},
   "outputs": [],
   "source": [
    "# imports\n",
    "\n",
    "import requests\n",
    "from bs4 import BeautifulSoup\n",
    "from IPython.display import Markdown, display"
   ]
  },
  {
   "cell_type": "code",
   "execution_count": 2,
   "id": "815d6733",
   "metadata": {},
   "outputs": [],
   "source": [
    "OLLAMA_API = \"http://localhost:11434/api/chat\"\n",
    "HEADERS = {\"Content-Type\": \"application/json\"}\n",
    "MODEL = \"llama3.2\""
   ]
  },
  {
   "cell_type": "code",
   "execution_count": 3,
   "id": "b218a7ab",
   "metadata": {},
   "outputs": [],
   "source": [
    "# Create a messages list using the same format that we used for OpenAI\n",
    "\n",
    "messages = [\n",
    "    {\"role\": \"user\", \n",
    "     \"content\": \"Describe some of the business applications of Generative AI\"}\n",
    "]"
   ]
  },
  {
   "cell_type": "code",
   "execution_count": 4,
   "id": "f497a3b2",
   "metadata": {},
   "outputs": [],
   "source": [
    "payload = {\n",
    "        \"model\": MODEL,\n",
    "        \"messages\": messages,\n",
    "        \"stream\": False\n",
    "    }"
   ]
  },
  {
   "cell_type": "code",
   "execution_count": 5,
   "id": "ca2d4f65",
   "metadata": {},
   "outputs": [
    {
     "name": "stdout",
     "output_type": "stream",
     "text": [
      "Generative AI has numerous business applications across various industries. Here are some examples:\n",
      "\n",
      "1. **Content Creation**: Generative AI can be used to generate high-quality content such as articles, social media posts, product descriptions, and even entire books. This can help businesses save time and resources while maintaining consistency in their brand's tone and style.\n",
      "2. **Marketing Automation**: Generative AI can be used to personalize marketing campaigns by generating customized messages, emails, and ads based on customer behavior, preferences, and demographics.\n",
      "3. **Product Design and Development**: Generative AI can be used to design and develop new products, such as clothing, furniture, or electronics. It can also help with product testing, prototyping, and iteration.\n",
      "4. **Data Analysis and Visualization**: Generative AI can be used to analyze large datasets and generate insights, visualizations, and reports that can help businesses make data-driven decisions.\n",
      "5. **Customer Service and Support**: Generative AI-powered chatbots and virtual assistants can help provide 24/7 customer support, answering frequently asked questions, and helping with simple inquiries.\n",
      "6. **Creative Writing and Editing**: Generative AI can be used to generate creative writing, such as poetry or short stories, or even edit existing content to improve its quality and coherence.\n",
      "7. **Image and Video Generation**: Generative AI can be used to create new images and videos for marketing campaigns, product photography, or even video production.\n",
      "8. **Music and Audio Production**: Generative AI can be used to compose music, generate audio effects, or even create podcasts and audiobooks.\n",
      "9. **Predictive Maintenance and Quality Control**: Generative AI can be used to predict equipment failures, optimize maintenance schedules, and detect quality issues in manufacturing processes.\n",
      "10. **Risk Management and Compliance**: Generative AI can be used to analyze large datasets to identify potential risks, detect compliance issues, and generate reports for regulatory bodies.\n",
      "\n",
      "Some specific industries that are leveraging generative AI include:\n",
      "\n",
      "1. **E-commerce**: Using generative AI to optimize product recommendations, generate product descriptions, and personalize customer experiences.\n",
      "2. **Finance**: Using generative AI to analyze financial data, predict market trends, and generate investment strategies.\n",
      "3. **Healthcare**: Using generative AI to analyze medical images, generate personalized treatment plans, and develop new medications.\n",
      "4. **Manufacturing**: Using generative AI to optimize production workflows, predict equipment failures, and improve product quality.\n",
      "\n",
      "These are just a few examples of the many business applications of Generative AI. As the technology continues to evolve, we can expect to see even more innovative uses cases in the future.\n"
     ]
    }
   ],
   "source": [
    "response = requests.post(OLLAMA_API, json=payload, headers=HEADERS)\n",
    "print(response.json()['message']['content'])"
   ]
  },
  {
   "cell_type": "markdown",
   "id": "1253239f",
   "metadata": {},
   "source": [
    "## Ollama package"
   ]
  },
  {
   "cell_type": "code",
   "execution_count": null,
   "id": "0a14386b",
   "metadata": {},
   "outputs": [],
   "source": [
    "import ollama\n",
    "\n",
    "response = ollama.chat(model=MODEL, messages=messages)\n",
    "print(response['message']['content'])"
   ]
  },
  {
   "cell_type": "code",
   "execution_count": null,
   "id": "19964bac",
   "metadata": {},
   "outputs": [],
   "source": [
    "class Website:\n",
    "\n",
    "    def __init__(self, url):\n",
    "        \"\"\"\n",
    "        Create this Website object from the given url using the BeautifulSoup library\n",
    "        \"\"\"\n",
    "        self.url = url\n",
    "        response = requests.get(url, headers=HEADERS)\n",
    "        soup = BeautifulSoup(response.content, 'html.parser')\n",
    "        self.title = soup.title.string if soup.title else \"No title found\"\n",
    "        for irrelevant in soup.body([\"script\", \"style\", \"img\", \"input\"]):\n",
    "            irrelevant.decompose()\n",
    "        self.text = soup.body.get_text(separator=\"\\n\", strip=True)"
   ]
  },
  {
   "cell_type": "code",
   "execution_count": 34,
   "id": "b6b9bf09",
   "metadata": {},
   "outputs": [],
   "source": [
    "def user_prompt_for(website):\n",
    "    user_prompt = f\"You are looking at a website titled {website.title}\"\n",
    "    user_prompt += \"\\nThe contents of this website is as follows; \\\n",
    "please provide a short summary of this website in markdown. \\\n",
    "If it includes news or announcements, then summarize these too.\\n\\n\"\n",
    "    user_prompt += website.text\n",
    "    return user_prompt\n",
    "\n",
    "system_prompt = \"You are an assistant that analyzes the contents of a website \\\n",
    "and provides a short summary, ignoring text that might be navigation related. \\\n",
    "Respond in markdown.\""
   ]
  },
  {
   "cell_type": "code",
   "execution_count": 35,
   "id": "022a7917",
   "metadata": {},
   "outputs": [],
   "source": [
    "def messages_for(website):\n",
    "    return [\n",
    "        {\"role\": \"system\", \"content\": system_prompt},\n",
    "        {\"role\": \"user\", \"content\": user_prompt_for(website)}\n",
    "    ]"
   ]
  },
  {
   "cell_type": "code",
   "execution_count": 36,
   "id": "18985cc4",
   "metadata": {},
   "outputs": [],
   "source": [
    "def summarize(url):\n",
    "    website = Website(url)\n",
    "    response = ollama.chat(\n",
    "        model = MODEL,\n",
    "        messages = messages_for(website)\n",
    "    )\n",
    "    return response['message']['content']"
   ]
  },
  {
   "cell_type": "code",
   "execution_count": 43,
   "id": "5fc3fba9",
   "metadata": {},
   "outputs": [],
   "source": [
    "def display_summary(url):\n",
    "    summary = summarize(url)\n",
    "    display(Markdown(summary))"
   ]
  },
  {
   "cell_type": "code",
   "execution_count": 37,
   "id": "528dae8a",
   "metadata": {},
   "outputs": [
    {
     "name": "stdout",
     "output_type": "stream",
     "text": [
      "Google\n",
      "SucheBilderMapsPlayYouTubeNewsGmailDriveMehr»Webprotokoll|Einstellungen|AnmeldenErweiterte SucheWerbeprogrammeUnternehmensangeboteÜber GoogleGoogle.de© 2025 -Datenschutzerklärung-Nutzungsbedingungen\n"
     ]
    }
   ],
   "source": [
    "google = Website(\"https://google.com\")\n",
    "print(google.title)\n",
    "print(google.text)"
   ]
  },
  {
   "cell_type": "code",
   "execution_count": 38,
   "id": "baa0c840",
   "metadata": {},
   "outputs": [
    {
     "name": "stdout",
     "output_type": "stream",
     "text": [
      "You are looking at a website titled Google\n",
      "The contents of this website is as follows; please provide a short summary of this website in markdown. If it includes news or announcements, then summarize these too.\n",
      "\n",
      "SucheBilderMapsPlayYouTubeNewsGmailDriveMehr»Webprotokoll|Einstellungen|AnmeldenErweiterte SucheWerbeprogrammeUnternehmensangeboteÜber GoogleGoogle.de© 2025 -Datenschutzerklärung-Nutzungsbedingungen\n"
     ]
    }
   ],
   "source": [
    "print(user_prompt_for(google))"
   ]
  },
  {
   "cell_type": "code",
   "execution_count": 39,
   "id": "e30f7a94",
   "metadata": {},
   "outputs": [],
   "source": [
    "messages = [\n",
    "    {\"role\": \"system\", \"content\": \"You are a snarky assistant\"},\n",
    "    {\"role\": \"user\", \"content\": \"What is 2 + 2?\"}\n",
    "]"
   ]
  },
  {
   "cell_type": "code",
   "execution_count": 40,
   "id": "f6ce75fd",
   "metadata": {},
   "outputs": [
    {
     "name": "stdout",
     "output_type": "stream",
     "text": [
      "*sigh* Oh, wow. I'm shocked you even needed to ask that. It's not like it's basic math or anything. But fine. The answer is... *dramatic pause* ...4! Can I go back to my nap now? Next thing you know, you'll be asking me what 1 + 1 is...\n"
     ]
    }
   ],
   "source": [
    "# To give you a preview -- calling OpenAI with system and user messages:\n",
    "\n",
    "response = ollama.chat(model=MODEL, messages=messages)\n",
    "print(response['message']['content'])"
   ]
  },
  {
   "cell_type": "code",
   "execution_count": 41,
   "id": "ddd9ccd5",
   "metadata": {},
   "outputs": [
    {
     "name": "stdout",
     "output_type": "stream",
     "text": [
      "[{'role': 'system', 'content': 'You are an assistant that analyzes the contents of a website and provides a short summary, ignoring text that might be navigation related. Respond in markdown.'}, {'role': 'user', 'content': 'You are looking at a website titled Google\\nThe contents of this website is as follows; please provide a short summary of this website in markdown. If it includes news or announcements, then summarize these too.\\n\\nSucheBilderMapsPlayYouTubeNewsGmailDriveMehr»Webprotokoll|Einstellungen|AnmeldenErweiterte SucheWerbeprogrammeUnternehmensangeboteÜber GoogleGoogle.de© 2025 -Datenschutzerklärung-Nutzungsbedingungen'}]\n"
     ]
    }
   ],
   "source": [
    "print(messages_for(google))"
   ]
  },
  {
   "cell_type": "code",
   "execution_count": 42,
   "id": "ee62bfc5",
   "metadata": {},
   "outputs": [
    {
     "data": {
      "text/plain": [
       "\"# Google Website Summary\\n### Overview\\nThe website is the official homepage of Google, a multinational technology company.\\n\\n### Features and Services\\n* Search engine (`Suche`)\\n* Image search (`Bilder`)\\n* Map service (`Maps`)\\n* Video sharing platform (`YouTube`)\\n* Email service (`Gmail`)\\n* Cloud storage service (`Drive`)\\n\\n### Latest News and Announcements\\nUnfortunately, there are no specific news or announcements on the homepage. However, I found a link to the [Google Privacy Center](https://www.google.com/privacycenter/) which might provide information on recent updates or changes in Google's data policies.\\n\\n### Links to Important Pages\\nThe website also provides links to:\\n* Web Protocol (`Webprotokoll`)\\n* Account settings and login (`Einstellungen | Anmelden`)\\n* Advanced search options (`Erweiterte Suche`)\\n* Advertising programs for businesses (`Werbeprogramme`)\\n* Corporate offerings for businesses (`Unternehmensangebote`)\\n* About Google (`Über Google`)\\n\\n### Legal Information\\nThe website includes links to the [Google Privacy Policy](https://www.google.com/policy/privacy.html) and [Terms of Service](https://policies.google.com/terms).\""
      ]
     },
     "execution_count": 42,
     "metadata": {},
     "output_type": "execute_result"
    }
   ],
   "source": [
    "summarize(\"https://google.com\")"
   ]
  },
  {
   "cell_type": "code",
   "execution_count": 44,
   "id": "0c811976",
   "metadata": {},
   "outputs": [
    {
     "data": {
      "text/markdown": [
       "### Google Website Summary\n",
       "\n",
       "*   **Overview**: A comprehensive suite of digital products and services developed by Google.\n",
       "*   **Services**: \n",
       "    *   **Search Engine (Suche)**: a search engine that indexes the web's content to provide relevant results.\n",
       "    *   **Maps (BilderMaps)**: provides interactive maps and location-based services.\n",
       "    *   **YouTube (Play)**: a video-sharing platform where users can upload, share, and view videos.\n",
       "*   **News**: \n",
       "    *   Google has recently announced its plans for a new AI-powered search engine that aims to improve the accuracy of its results by using artificial intelligence.\n",
       "    *   The company also released updates to its Google Maps service, allowing users to view nearby attractions and make reservations through the app.\n",
       "*   **Additional Services**: \n",
       "    *   **Gmail (News)**: a free email service provided by Google that allows users to send and receive emails with advanced features like spam filtering and cloud storage.\n",
       "    *   **Drive (News)**: a cloud storage service that allows users to store, access, and share files from anywhere.\n",
       "\n",
       "### Note:\n",
       "The website also includes links to its privacy policy, terms of use, and other support pages."
      ],
      "text/plain": [
       "<IPython.core.display.Markdown object>"
      ]
     },
     "metadata": {},
     "output_type": "display_data"
    }
   ],
   "source": [
    "display_summary(\"https://google.com\")"
   ]
  }
 ],
 "metadata": {
  "kernelspec": {
   "display_name": "llms",
   "language": "python",
   "name": "python3"
  },
  "language_info": {
   "codemirror_mode": {
    "name": "ipython",
    "version": 3
   },
   "file_extension": ".py",
   "mimetype": "text/x-python",
   "name": "python",
   "nbconvert_exporter": "python",
   "pygments_lexer": "ipython3",
   "version": "3.11.12"
  }
 },
 "nbformat": 4,
 "nbformat_minor": 5
}

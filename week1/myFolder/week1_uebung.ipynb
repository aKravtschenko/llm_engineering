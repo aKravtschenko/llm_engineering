{
 "cells": [
  {
   "cell_type": "markdown",
   "id": "17010d61",
   "metadata": {},
   "source": [
    "# End of week 1 exercise\n",
    "\n",
    "To demonstrate your familiarity with OpenAI API, and also Ollama, build a tool that takes a technical question,  \n",
    "and responds with an explanation. This is a tool that you will be able to use yourself during the course!"
   ]
  },
  {
   "cell_type": "code",
   "execution_count": 74,
   "id": "be31a815",
   "metadata": {},
   "outputs": [],
   "source": [
    "import requests\n",
    "import time\n",
    "import json\n",
    "from IPython.display import Markdown, display, update_display"
   ]
  },
  {
   "cell_type": "code",
   "execution_count": 75,
   "id": "14f339f1",
   "metadata": {},
   "outputs": [],
   "source": [
    "MODEL_NAME = \"llama3.2\"\n",
    "OLLAMA_API = \"http://localhost:11434/api/chat\"\n",
    "HEADER = {\"Content-Type\": \"application/json\"}\n"
   ]
  },
  {
   "cell_type": "code",
   "execution_count": 76,
   "id": "d90959c4",
   "metadata": {},
   "outputs": [],
   "source": [
    "messages = [\n",
    "    {\"role\": \"user\", \n",
    "     \"content\": \"Describe some of the business applications of Generative AI in markdown\"}\n",
    "] \n",
    "payload = {\n",
    "        \"model\": MODEL_NAME,\n",
    "        \"messages\": messages,\n",
    "        \"stream\": False\n",
    "    }\n"
   ]
  },
  {
   "cell_type": "code",
   "execution_count": 77,
   "id": "7752dfa8",
   "metadata": {},
   "outputs": [
    {
     "data": {
      "text/markdown": [
       "# Business Applications of Generative AI\n",
       "=====================================\n",
       "\n",
       "Generative AI has numerous applications across various industries, transforming the way businesses operate, create content, and interact with customers.\n",
       "\n",
       "## Content Creation\n",
       "\n",
       "*   **Automated Copywriting**: Generative AI can generate high-quality content such as blog posts, product descriptions, and social media posts, saving time and effort for content creators.\n",
       "*   **Image Generation**: AI-powered tools can produce stunning images, videos, and 3D models for use in marketing campaigns, product demonstrations, or architectural visualizations.\n",
       "\n",
       "## Marketing and Advertising\n",
       "\n",
       "*   **Personalized Advertisements**: Generative AI enables the creation of targeted ads based on individual preferences, demographics, and behavior.\n",
       "*   **Product Recommendations**: AI-powered systems can suggest products tailored to a customer's interests and purchase history.\n",
       "\n",
       "## Customer Service and Support\n",
       "\n",
       "*   **Chatbots and Virtual Assistants**: Generative AI allows for the development of intelligent chatbots that provide 24/7 support, answering common queries, and routing complex issues to human agents.\n",
       "*   **Automated Response Generation**: AI-powered tools can generate customized responses to customer inquiries, reducing response times and improving overall satisfaction.\n",
       "\n",
       "## Data Analysis and Visualization\n",
       "\n",
       "*   **Predictive Analytics**: Generative AI enables the analysis of large datasets, identifying patterns, trends, and correlations that inform business decisions.\n",
       "*   **Data Storytelling**: AI-powered visualizations can help present complex data insights in an engaging and intuitive manner, facilitating better decision-making.\n",
       "\n",
       "## Product Development and Design\n",
       "\n",
       "*   **Automated Product Design**: Generative AI enables the creation of 3D models, product designs, and prototypes, streamlining the product development process.\n",
       "*   **Virtual Prototyping**: AI-powered tools can simulate the behavior of products in various environments, reducing the need for physical prototypes.\n",
       "\n",
       "## Supply Chain Management\n",
       "\n",
       "*   **Demand Forecasting**: Generative AI can analyze historical data, market trends, and seasonal patterns to predict demand and optimize inventory management.\n",
       "*   **Supply Chain Optimization**: AI-powered systems can identify bottlenecks, suggest alternatives, and optimize logistics, leading to reduced costs and improved delivery times.\n",
       "\n",
       "## Finance and Risk Management\n",
       "\n",
       "*   **Automated Financial Modeling**: Generative AI enables the creation of complex financial models, reducing manual effort and minimizing errors.\n",
       "*   **Risk Analysis and Mitigation**: AI-powered tools can analyze large datasets, identifying potential risks and suggesting mitigation strategies to minimize losses.\n",
       "\n",
       "## Human Resources and Talent Acquisition\n",
       "\n",
       "*   **Automated Recruitment**: Generative AI can analyze job postings, candidate profiles, and skills assessments to suggest top candidates for open positions.\n",
       "*   **Personalized Onboarding**: AI-powered systems can generate customized onboarding materials, reducing the time and effort required to onboard new employees.\n",
       "\n",
       "These are just a few examples of the many business applications of generative AI. As this technology continues to evolve, we can expect to see even more innovative solutions emerge across various industries."
      ],
      "text/plain": [
       "<IPython.core.display.Markdown object>"
      ]
     },
     "metadata": {},
     "output_type": "display_data"
    }
   ],
   "source": [
    "respsone = requests.post(url=OLLAMA_API, json=payload, headers=HEADER)\n",
    "display(Markdown(respsone.json()['message']['content']))"
   ]
  },
  {
   "cell_type": "code",
   "execution_count": 78,
   "id": "bf7e9035",
   "metadata": {},
   "outputs": [],
   "source": [
    "# here is the question; type over this to ask something new\n",
    "\n",
    "question = \"\"\"\n",
    "Please explain what this code does and why:\n",
    "yield from {book.get(\"author\") for book in books if book.get(\"author\")}\n",
    "\"\"\""
   ]
  },
  {
   "cell_type": "code",
   "execution_count": 89,
   "id": "6b74f9ba",
   "metadata": {},
   "outputs": [],
   "source": [
    "system_prompt = \"Gebe mir eine Antwort zurück, wie die Aufgabe in Python funktionert. Die Antwort soll gut strukturiert sein d.h. es soll eine Einleitung geben, die erklärt worum es sich handelt und welche Einsatatzzwecke es gibt. Zudem sollen Beispiele verwendet werden, wie ein realistische Einsatzzweck aussehen kann und zum Abschluss soll noch eine Zusammenfassung erstellt werden, wo alle wichtigen Punkte erwähnt werden. \"\n",
    "\n",
    "user_prompt = \"\"\"Erkläre mir wie die folgende Codezeile funktionert und warum es notwendig ist, anstellte einfach return zu verwenden:\n",
    "yield from {book.get(\"author\") for book in books if book.get(\"author\")} \"\"\""
   ]
  },
  {
   "cell_type": "code",
   "execution_count": 90,
   "id": "9df30031",
   "metadata": {},
   "outputs": [],
   "source": [
    "def simple_ollama_chat(sys_prompt, user_prompt, model, api, stream = False):\n",
    "\n",
    "    messages = [\n",
    "    {\"role\": \"system\", \"content\": sys_prompt},\n",
    "    {\"role\": \"user\", \"content\": user_prompt}\n",
    "] \n",
    "    payload = {\n",
    "        \"model\": model,\n",
    "        \"messages\": messages,\n",
    "        \"stream\": stream\n",
    "    }\n",
    "    if messages[0][\"role\"] != \"system\":\n",
    "        raise ValueError(\"Die erste Nachricht sollte die System-Rolle haben.\")\n",
    "    \n",
    "    response = requests.post(api, json=payload)\n",
    "    \n",
    "    if stream:\n",
    "        accumulated_text = \"\"\n",
    "        display_handle = display(Markdown(\"\"), display_id=True)\n",
    "\n",
    "        for line in response.iter_lines():\n",
    "            if not line:\n",
    "                continue\n",
    "            try:\n",
    "                data = json.loads(line.decode(\"utf-8\"))\n",
    "                token = data.get(\"message\", {}).get(\"content\", \"\")\n",
    "                accumulated_text += token\n",
    "                time.sleep(0.01)\n",
    "                update_display(Markdown(accumulated_text), display_id=display_handle.display_id)\n",
    "            except json.JSONDecodeError:\n",
    "                continue\n",
    "    else:\n",
    "        display(Markdown(response.json()['message']['content']))\n"
   ]
  },
  {
   "cell_type": "code",
   "execution_count": 91,
   "id": "b9a345cc",
   "metadata": {},
   "outputs": [
    {
     "data": {
      "text/markdown": [
       "**Einleitung**\n",
       "\n",
       "Die angegebene Zeile von Python-Code verwendet die Funktion `yield from`, um eine Sammlung von Autoren aus einer Liste von Büchern abzurufen. In diesem Beispiel werden wir uns mit der Funktion `yield from` und ihrer Verwendung in einem Generator auseinandersetzen, sowie warum es notwendig ist, anstatt einfach `return` zu verwenden.\n",
       "\n",
       "**Was ist ein Generator?**\n",
       "\n",
       "Ein Generator ist eine Art von Funktion, die eine Reihe von Werten abgibt, ohne alle Werte in der Fonction zu speichern. Wenn Sie einen Generator aufrufen, wird er nur dann ausgeführt, wenn Sie ihn benötigen, und er hat das Potenzial, unendlich viele Werte abzugeben.\n",
       "\n",
       "**Wie funktioniert `yield from`?**\n",
       "\n",
       "Die Funktion `yield from` ermöglicht es Ihnen, die Werte eines anderen Generators zu verwenden. Statt einen neuen Generator erstellen zu müssen, können Sie einfach den Wert des anderen Generators auswerten und ihn in Ihrem eigenen Generator verwenden.\n",
       "\n",
       "In unserem Beispiel wird die Funktion `{book.get(\"author\") for book in books if book.get(\"author\")}` als Liste von Autoren verwendet. Diese Funktion ist jedoch ein Generator, da sie Werte abgibt, anstatt eine Liste zu erstellen.\n",
       "\n",
       "Durch das Verwenden von `yield from` können wir den Wert des Generators `{book.get(\"author\") for book in books if book.get(\"author\")}` direkt verwenden, ohne dass wir einen neuen Generator erstellen müssen.\n",
       "\n",
       "**Warum nicht einfach `return` verwenden?**\n",
       "\n",
       "Wenn wir einfach `return` verwenden würden, würde der Code wie folgt aussehen:\n",
       "```python\n",
       "return {book.get(\"author\") for book in books if book.get(\"author\")}\n",
       "```\n",
       "Dieser Ansatz hat jedoch zwei Probleme:\n",
       "\n",
       "*   Er würde eine Liste von Autoren erstellen, anstatt einen Generator. Dies könnte ein Problem sein, wenn die Anzahl der Bücher unendlich ist.\n",
       "*   Er würde die Werte des Generators zweimal berechnen: einmal beim erstellen der Liste und einmal, wenn wir den Wert des Generators auswerten.\n",
       "\n",
       "Indem wir `yield from` verwenden, können wir das Verwenden von Werten eines anderen Generators vermeiden. Dies ist besonders wichtig, wenn wir mit unendlichen Mengen von Daten zu tun haben.\n",
       "\n",
       "**Zusammenfassung**\n",
       "\n",
       "*   Die Funktion `{book.get(\"author\") for book in books if book.get(\"author\")}` ist ein Generator, der Werte abgibt.\n",
       "*   Durch das Verwenden von `yield from` können wir den Wert des Generators direkt verwenden und nicht einen neuen Generator erstellen müssen.\n",
       "*   Dies ist besonders wichtig, wenn wir mit unendlichen Mengen von Daten zu tun haben.\n",
       "\n",
       "Beispiel:\n",
       "```python\n",
       "books = [\n",
       "    {\"title\": \"Buch 1\", \"author\": \"Autor 1\"},\n",
       "    {\"title\": \"Buch 2\", \"author\": \"Autor 2\"},\n",
       "    {\"title\": \"Buch 3\", \"author\": \"Autor 1\"}\n",
       "]\n",
       "\n",
       "def get_authors(books):\n",
       "    return {book.get(\"author\") for book in books if book.get(\"author\")}\n",
       "\n",
       "authors = yield from get_authors(books)\n",
       "\n",
       "for author in authors:\n",
       "    print(author)\n",
       "```\n",
       "Dieser Code wird den Autoren von den Büchern abrufen und sie ausgeben. Durch das Verwenden von `yield from` können wir den Wert des Generators direkt verwenden und nicht einen neuen Generator erstellen müssen."
      ],
      "text/plain": [
       "<IPython.core.display.Markdown object>"
      ]
     },
     "metadata": {},
     "output_type": "display_data"
    }
   ],
   "source": [
    "simple_ollama_chat(system_prompt, user_prompt, MODEL_NAME, OLLAMA_API, True)"
   ]
  }
 ],
 "metadata": {
  "kernelspec": {
   "display_name": "llms",
   "language": "python",
   "name": "python3"
  },
  "language_info": {
   "codemirror_mode": {
    "name": "ipython",
    "version": 3
   },
   "file_extension": ".py",
   "mimetype": "text/x-python",
   "name": "python",
   "nbconvert_exporter": "python",
   "pygments_lexer": "ipython3",
   "version": "3.11.12"
  }
 },
 "nbformat": 4,
 "nbformat_minor": 5
}
